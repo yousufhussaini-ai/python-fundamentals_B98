{
 "cells": [
  {
   "cell_type": "code",
   "execution_count": null,
   "id": "c539b115-cd53-44ff-8ae5-bfda53ebe538",
   "metadata": {},
   "outputs": [],
   "source": [
    "continuation with string datatype: "
   ]
  },
  {
   "cell_type": "code",
   "execution_count": 1,
   "id": "074100a0-2ce9-489b-a4fb-6cca88c47402",
   "metadata": {},
   "outputs": [
    {
     "name": "stdout",
     "output_type": "stream",
     "text": [
      "dinesh\n"
     ]
    }
   ],
   "source": [
    "name= \"dinesh\"\n",
    "\n",
    "print(name)"
   ]
  },
  {
   "cell_type": "code",
   "execution_count": null,
   "id": "38600c22-2f22-417a-b472-a97defcf3f7d",
   "metadata": {},
   "outputs": [],
   "source": []
  },
  {
   "cell_type": "code",
   "execution_count": null,
   "id": "244f4a91-2dc8-4638-8b9c-b96ca45db2eb",
   "metadata": {},
   "outputs": [],
   "source": [
    "type(name)"
   ]
  },
  {
   "cell_type": "code",
   "execution_count": null,
   "id": "54b362da-7ec8-46fa-87ba-0f8b454e8d65",
   "metadata": {},
   "outputs": [],
   "source": [
    "str"
   ]
  },
  {
   "cell_type": "code",
   "execution_count": 2,
   "id": "6512629b-a7ae-492b-afc2-76a5be10c002",
   "metadata": {},
   "outputs": [
    {
     "name": "stdout",
     "output_type": "stream",
     "text": [
      "dinesh sahu\n"
     ]
    }
   ],
   "source": [
    "fullname= \"dinesh sahu\"\n",
    "print(fullname)"
   ]
  },
  {
   "cell_type": "code",
   "execution_count": 3,
   "id": "30d3d6b9-3032-4404-bc33-73620644612a",
   "metadata": {},
   "outputs": [
    {
     "name": "stdout",
     "output_type": "stream",
     "text": [
      "Dinesh Sahu\n"
     ]
    }
   ],
   "source": [
    "print (fullname.title())"
   ]
  },
  {
   "cell_type": "code",
   "execution_count": null,
   "id": "a52d1cb6-da04-4a95-9bf7-39e84c02bff7",
   "metadata": {},
   "outputs": [],
   "source": [
    "# i want to get the fullname in capital letters"
   ]
  },
  {
   "cell_type": "code",
   "execution_count": 4,
   "id": "23a4a092-5941-4919-b8de-1d4fc994a93c",
   "metadata": {},
   "outputs": [
    {
     "name": "stdout",
     "output_type": "stream",
     "text": [
      "DINESH SAHU\n"
     ]
    }
   ],
   "source": [
    "print (fullname.upper())"
   ]
  },
  {
   "cell_type": "code",
   "execution_count": null,
   "id": "20489439-8f5f-4712-8c66-d78ab2fef1b0",
   "metadata": {},
   "outputs": [],
   "source": []
  },
  {
   "cell_type": "code",
   "execution_count": null,
   "id": "14be317d-f159-400d-ab82-9eccdb5bd8dd",
   "metadata": {},
   "outputs": [],
   "source": [
    "# i want to get the fullname in small letters..."
   ]
  },
  {
   "cell_type": "code",
   "execution_count": 5,
   "id": "96eb6105-b608-42a3-a90e-5cdd23d0deee",
   "metadata": {},
   "outputs": [
    {
     "name": "stdout",
     "output_type": "stream",
     "text": [
      "dinesh sahu\n"
     ]
    }
   ],
   "source": [
    "print(fullname.lower())"
   ]
  },
  {
   "cell_type": "code",
   "execution_count": null,
   "id": "cbc93235-0c13-4d67-bcf9-37aae952420b",
   "metadata": {},
   "outputs": [],
   "source": []
  },
  {
   "cell_type": "code",
   "execution_count": null,
   "id": "b05fcb77-dd75-4ee6-92ba-90927308b029",
   "metadata": {},
   "outputs": [],
   "source": [
    "introduction to f strings :"
   ]
  },
  {
   "cell_type": "code",
   "execution_count": null,
   "id": "9d074577-05f6-452e-bfad-5e6408e4f4c6",
   "metadata": {},
   "outputs": [],
   "source": [
    "general syntax of f strings :"
   ]
  },
  {
   "cell_type": "code",
   "execution_count": null,
   "id": "836a5132-6904-46cf-bf8b-2c14d0b9e632",
   "metadata": {},
   "outputs": [],
   "source": [
    "f\"custom_message {placeholder1} {placeholder2}.......{placeholdern}\""
   ]
  },
  {
   "cell_type": "code",
   "execution_count": null,
   "id": "0ba357cf-ede8-463a-b65c-3b55988d23b7",
   "metadata": {},
   "outputs": [],
   "source": []
  },
  {
   "cell_type": "code",
   "execution_count": 11,
   "id": "a93e6450-47c8-4273-9509-abdc173979a4",
   "metadata": {},
   "outputs": [],
   "source": [
    "firstname = \"sana\"\n",
    "\n",
    "lastname = \"kauser\""
   ]
  },
  {
   "cell_type": "code",
   "execution_count": null,
   "id": "024528af-d983-4d64-aa8f-f5a661bc0e98",
   "metadata": {},
   "outputs": [],
   "source": [
    "# i want to get the fullname....?"
   ]
  },
  {
   "cell_type": "code",
   "execution_count": 12,
   "id": "9b4d0f3a-d558-4689-a45c-3ee087a0fca9",
   "metadata": {},
   "outputs": [
    {
     "name": "stdout",
     "output_type": "stream",
     "text": [
      "sana kauser\n"
     ]
    }
   ],
   "source": [
    "fullname = f\"{firstname} {lastname}\"\n",
    "\n",
    "print(fullname)"
   ]
  },
  {
   "cell_type": "code",
   "execution_count": null,
   "id": "b481897d-ba05-4988-b6aa-1871eb9f298b",
   "metadata": {},
   "outputs": [],
   "source": [
    "# req :"
   ]
  },
  {
   "cell_type": "code",
   "execution_count": 13,
   "id": "f268672d-8438-4e25-9189-7488c7f04980",
   "metadata": {},
   "outputs": [
    {
     "name": "stdout",
     "output_type": "stream",
     "text": [
      "keep up the good work, Sana Kauser\n"
     ]
    }
   ],
   "source": [
    "message = f\"keep up the good work, {fullname.title()}\"\n",
    "\n",
    "print(message)"
   ]
  },
  {
   "cell_type": "code",
   "execution_count": null,
   "id": "5bd0356b-7924-4520-9449-c8b810bbe58a",
   "metadata": {},
   "outputs": [],
   "source": []
  },
  {
   "cell_type": "code",
   "execution_count": null,
   "id": "00e4340c-cdf7-486c-b79b-c5106ddac386",
   "metadata": {},
   "outputs": [],
   "source": [
    "adding white spaces to the strings : "
   ]
  },
  {
   "cell_type": "code",
   "execution_count": 14,
   "id": "6698339f-c47d-4d2b-abb4-95faab4a82fb",
   "metadata": {},
   "outputs": [
    {
     "name": "stdout",
     "output_type": "stream",
     "text": [
      "favourite_programming:Pythonjavac++javascriptswift\n"
     ]
    }
   ],
   "source": [
    "print(\"favourite_programming:Pythonjavac++javascriptswift\") "
   ]
  },
  {
   "cell_type": "code",
   "execution_count": 15,
   "id": "1650bf66-8ea2-49d5-b11f-822072be76f5",
   "metadata": {},
   "outputs": [
    {
     "name": "stdout",
     "output_type": "stream",
     "text": [
      "favourite_programming:Python\n",
      "java\n",
      "c++\n",
      "javascript\n",
      "swift\n"
     ]
    }
   ],
   "source": [
    "print(\"favourite_programming:Python\\njava\\nc++\\njavascript\\nswift\") #\\n ====> new line delimiter"
   ]
  },
  {
   "cell_type": "code",
   "execution_count": 16,
   "id": "1ac7a902-f8f4-49f7-b0c4-9e165cf2f661",
   "metadata": {},
   "outputs": [
    {
     "name": "stdout",
     "output_type": "stream",
     "text": [
      "favourite_programming:\n",
      "\tPython)\n",
      "\tjava\n",
      "\tc++\n",
      "\tjavascript\n",
      "\tswift\n"
     ]
    }
   ],
   "source": [
    "print(\"favourite_programming:\\n\\tPython)\\n\\tjava\\n\\tc++\\n\\tjavascript\\n\\tswift\") #\\t ==== tab delimiter"
   ]
  },
  {
   "cell_type": "code",
   "execution_count": null,
   "id": "94717061-2061-45dc-9634-e2a73c174f08",
   "metadata": {},
   "outputs": [],
   "source": []
  },
  {
   "cell_type": "code",
   "execution_count": null,
   "id": "27dc8234-904b-4f90-83c2-ce5963120b28",
   "metadata": {},
   "outputs": [],
   "source": []
  },
  {
   "cell_type": "code",
   "execution_count": null,
   "id": "0384f962-e947-4fba-9ccc-925c6ec66b6a",
   "metadata": {},
   "outputs": [],
   "source": []
  },
  {
   "cell_type": "code",
   "execution_count": null,
   "id": "183773c1-e2f6-42dd-a4af-a63ced14bb46",
   "metadata": {},
   "outputs": [],
   "source": []
  },
  {
   "cell_type": "code",
   "execution_count": null,
   "id": "80882f76-5318-4960-ab4d-f807555bb0ff",
   "metadata": {},
   "outputs": [],
   "source": []
  }
 ],
 "metadata": {
  "kernelspec": {
   "display_name": "Python [conda env:base] *",
   "language": "python",
   "name": "conda-base-py"
  },
  "language_info": {
   "codemirror_mode": {
    "name": "ipython",
    "version": 3
   },
   "file_extension": ".py",
   "mimetype": "text/x-python",
   "name": "python",
   "nbconvert_exporter": "python",
   "pygments_lexer": "ipython3",
   "version": "3.13.5"
  }
 },
 "nbformat": 4,
 "nbformat_minor": 5
}
