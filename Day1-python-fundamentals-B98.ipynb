{
 "cells": [
  {
   "cell_type": "code",
   "execution_count": 1,
   "id": "859010bb-4ff6-4875-9254-cd72fc2f1da3",
   "metadata": {},
   "outputs": [
    {
     "name": "stdout",
     "output_type": "stream",
     "text": [
      "hello all to the python programming sessions!!\n"
     ]
    }
   ],
   "source": [
    "print(\"hello all to the python programming sessions!!\")"
   ]
  },
  {
   "cell_type": "code",
   "execution_count": 2,
   "id": "37292771-4191-47b6-963a-74a5ac6c88b6",
   "metadata": {},
   "outputs": [
    {
     "name": "stdout",
     "output_type": "stream",
     "text": [
      "hello world\n"
     ]
    }
   ],
   "source": [
    "print(\"hello world\")"
   ]
  }
 ],
 "metadata": {
  "kernelspec": {
   "display_name": "Python [conda env:base] *",
   "language": "python",
   "name": "conda-base-py"
  },
  "language_info": {
   "codemirror_mode": {
    "name": "ipython",
    "version": 3
   },
   "file_extension": ".py",
   "mimetype": "text/x-python",
   "name": "python",
   "nbconvert_exporter": "python",
   "pygments_lexer": "ipython3",
   "version": "3.13.5"
  }
 },
 "nbformat": 4,
 "nbformat_minor": 5
}
