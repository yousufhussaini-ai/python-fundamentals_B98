{
 "cells": [
  {
   "cell_type": "code",
   "execution_count": null,
   "id": "5b8e0dcb-5d0d-472b-8310-2ccf53b1875d",
   "metadata": {},
   "outputs": [],
   "source": [
    "Introduction to python fundamentals"
   ]
  },
  {
   "cell_type": "code",
   "execution_count": null,
   "id": "73d4c3a5-141f-41fb-ba14-e702c77437a3",
   "metadata": {},
   "outputs": [],
   "source": []
  },
  {
   "cell_type": "code",
   "execution_count": null,
   "id": "c2fb51e2-c035-4f10-afe8-134a3aba0447",
   "metadata": {},
   "outputs": [],
   "source": [
    "Understanding the variables in python :"
   ]
  },
  {
   "cell_type": "code",
   "execution_count": null,
   "id": "64d9625d-8da4-4322-9348-5e7a3beae5ef",
   "metadata": {},
   "outputs": [],
   "source": []
  },
  {
   "cell_type": "code",
   "execution_count": null,
   "id": "8b024df8-de66-4944-b4ad-acd125b7ae63",
   "metadata": {},
   "outputs": [],
   "source": [
    "a=3\n",
    "b=2"
   ]
  },
  {
   "cell_type": "code",
   "execution_count": 4,
   "id": "4c9d50a9-2aa7-4e65-9a3a-79a5f6dcc785",
   "metadata": {},
   "outputs": [
    {
     "name": "stdout",
     "output_type": "stream",
     "text": [
      "5\n"
     ]
    }
   ],
   "source": [
    "c=a+b\n",
    "\n",
    "print(c)"
   ]
  },
  {
   "cell_type": "code",
   "execution_count": null,
   "id": "f3dd1b8e-7d43-466a-98ca-ff94fff215a8",
   "metadata": {},
   "outputs": [],
   "source": []
  },
  {
   "cell_type": "code",
   "execution_count": null,
   "id": "2eafa1c2-b738-4a01-9175-490c481b0509",
   "metadata": {},
   "outputs": [],
   "source": [
    "Rules for declaring the variables in python:"
   ]
  },
  {
   "cell_type": "code",
   "execution_count": null,
   "id": "d18ff46c-5cff-40e5-a4f5-b16d7417e9c9",
   "metadata": {},
   "outputs": [],
   "source": [
    "Rule No 1: No namespaces for declaring the variable names"
   ]
  },
  {
   "cell_type": "code",
   "execution_count": 3,
   "id": "b93c7d8a-6651-4ac9-a696-54439670f92a",
   "metadata": {},
   "outputs": [
    {
     "ename": "SyntaxError",
     "evalue": "invalid syntax (3441939882.py, line 1)",
     "output_type": "error",
     "traceback": [
      "\u001b[1;36m  Cell \u001b[1;32mIn[3], line 1\u001b[1;36m\u001b[0m\n\u001b[1;33m    First name = \"fayaz\"\u001b[0m\n\u001b[1;37m          ^\u001b[0m\n\u001b[1;31mSyntaxError\u001b[0m\u001b[1;31m:\u001b[0m invalid syntax\n"
     ]
    }
   ],
   "source": [
    "First name = \"fayaz\"\n",
    "print(first name)"
   ]
  },
  {
   "cell_type": "code",
   "execution_count": 6,
   "id": "e3f5d4a2-6c7b-412c-815e-09bcc380473d",
   "metadata": {},
   "outputs": [
    {
     "name": "stdout",
     "output_type": "stream",
     "text": [
      "fayaz\n"
     ]
    }
   ],
   "source": [
    "firstname = \"fayaz\"\n",
    "\n",
    "print(firstname)"
   ]
  },
  {
   "cell_type": "code",
   "execution_count": null,
   "id": "77f13bdf-6d08-4659-a577-e46648a7d8db",
   "metadata": {},
   "outputs": [],
   "source": [
    "Rule No 2: A variable name should not start with number **"
   ]
  },
  {
   "cell_type": "code",
   "execution_count": 7,
   "id": "80db482d-770f-481a-98bb-88cfb6d07715",
   "metadata": {},
   "outputs": [
    {
     "ename": "SyntaxError",
     "evalue": "invalid decimal literal (1015482854.py, line 1)",
     "output_type": "error",
     "traceback": [
      "\u001b[1;36m  Cell \u001b[1;32mIn[7], line 1\u001b[1;36m\u001b[0m\n\u001b[1;33m    1name = \"David\"\u001b[0m\n\u001b[1;37m    ^\u001b[0m\n\u001b[1;31mSyntaxError\u001b[0m\u001b[1;31m:\u001b[0m invalid decimal literal\n"
     ]
    }
   ],
   "source": [
    "1name = \"David\"\n",
    "\n",
    "print (1name)"
   ]
  },
  {
   "cell_type": "code",
   "execution_count": 8,
   "id": "80d58ac2-ec16-497d-a2d1-e87858da4b13",
   "metadata": {},
   "outputs": [
    {
     "name": "stdout",
     "output_type": "stream",
     "text": [
      "david\n"
     ]
    }
   ],
   "source": [
    "name1 = \"david\"\n",
    "\n",
    "print(name1)"
   ]
  },
  {
   "cell_type": "code",
   "execution_count": null,
   "id": "5aa1a434-cd55-4854-859f-d7d9b156b54b",
   "metadata": {},
   "outputs": [],
   "source": [
    "Rule no 3: A variable name should not contain any special characters "
   ]
  },
  {
   "cell_type": "code",
   "execution_count": null,
   "id": "cea64a5a-17cd-4b6d-854e-59c12702c2fa",
   "metadata": {},
   "outputs": [],
   "source": []
  },
  {
   "cell_type": "code",
   "execution_count": 9,
   "id": "1a67a6fd-8e94-48cb-8138-eef108a19c73",
   "metadata": {},
   "outputs": [
    {
     "ename": "SyntaxError",
     "evalue": "invalid syntax (3938931654.py, line 1)",
     "output_type": "error",
     "traceback": [
      "\u001b[1;36m  Cell \u001b[1;32mIn[9], line 1\u001b[1;36m\u001b[0m\n\u001b[1;33m    name@ = \"ganesh\"\u001b[0m\n\u001b[1;37m          ^\u001b[0m\n\u001b[1;31mSyntaxError\u001b[0m\u001b[1;31m:\u001b[0m invalid syntax\n"
     ]
    }
   ],
   "source": [
    "name@ = \"ganesh\"\n",
    "\n",
    "print(name@)"
   ]
  },
  {
   "cell_type": "code",
   "execution_count": null,
   "id": "292fcb8f-3b1b-44ae-915f-e10fd6c72660",
   "metadata": {},
   "outputs": [],
   "source": [
    "special characters: examples @ # $ & % *=======>"
   ]
  },
  {
   "cell_type": "code",
   "execution_count": 10,
   "id": "94aa0def-f9ee-4fc7-8b5d-b6efdbf8ff57",
   "metadata": {},
   "outputs": [
    {
     "name": "stdout",
     "output_type": "stream",
     "text": [
      "ganesh\n"
     ]
    }
   ],
   "source": [
    "name = \"ganesh\"\n",
    "\n",
    "print(name)"
   ]
  },
  {
   "cell_type": "code",
   "execution_count": null,
   "id": "df79a7d6-6585-49f1-96ea-5468a326fe66",
   "metadata": {},
   "outputs": [],
   "source": []
  },
  {
   "cell_type": "code",
   "execution_count": null,
   "id": "7e5187ff-719b-4991-8ee1-f5434fb74184",
   "metadata": {},
   "outputs": [],
   "source": [
    "introduction to data types in python:"
   ]
  },
  {
   "cell_type": "code",
   "execution_count": null,
   "id": "c43b551b-bf65-4bb4-bb5a-25806029f52b",
   "metadata": {},
   "outputs": [],
   "source": [
    "1. strings ====> str\n",
    "\n",
    "2. Number =====> integers-----int, floats(decimals)-----> 0.1,0.2,0.3\n",
    "\n",
    "3. lists =====> list\n",
    "\n",
    "4. tuples =====> tuple\n",
    "\n",
    "5. Dictionaries =====> dict"
   ]
  },
  {
   "cell_type": "code",
   "execution_count": null,
   "id": "f667c466-b71a-4190-9af8-2f3f09a78839",
   "metadata": {},
   "outputs": [],
   "source": []
  },
  {
   "cell_type": "code",
   "execution_count": null,
   "id": "e457f469-6f13-4c46-8cb8-0fcbb0f9ed73",
   "metadata": {},
   "outputs": [],
   "source": [
    "classification of data types:\n",
    "\n",
    "Broadly data types  are  classified into two categories\n",
    "\n",
    "1. mutable datatypes-----> which we can able to edit/alter\n",
    "2. immutable datatypes-----> which we cannot able to edit/alter"
   ]
  },
  {
   "cell_type": "code",
   "execution_count": null,
   "id": "81b458b8-0088-4f76-a0d8-af2c0beeb825",
   "metadata": {},
   "outputs": [],
   "source": []
  },
  {
   "cell_type": "code",
   "execution_count": null,
   "id": "8f5ed060-b613-49e3-a769-5e1003a40d03",
   "metadata": {},
   "outputs": [],
   "source": [
    "Introduction to string datatype:"
   ]
  },
  {
   "cell_type": "code",
   "execution_count": null,
   "id": "1e51404e-85e0-4eb1-8ccc-2715ca244a60",
   "metadata": {},
   "outputs": [],
   "source": [
    "definition: A string is a series of characters declared in quotes.\n",
    "\n",
    "classification: It is classified as an immutable datatype. \n",
    "\n",
    "how to declare the string ====?\n",
    "\n",
    "1. single quote\n",
    "\n",
    "2. double quote "
   ]
  },
  {
   "cell_type": "code",
   "execution_count": 11,
   "id": "2cd19908-811e-4a14-b0b3-d83fd1076e1b",
   "metadata": {},
   "outputs": [
    {
     "name": "stdout",
     "output_type": "stream",
     "text": [
      "muskan\n"
     ]
    }
   ],
   "source": [
    "name = 'muskan' # single quote\n",
    "\n",
    "print(name)"
   ]
  },
  {
   "cell_type": "code",
   "execution_count": 12,
   "id": "f6c677d8-bd88-42ae-a7bc-d85ea6194b06",
   "metadata": {},
   "outputs": [
    {
     "name": "stdout",
     "output_type": "stream",
     "text": [
      "dinesh\n"
     ]
    }
   ],
   "source": [
    "name2 = \"dinesh\" # double quote\n",
    "\n",
    "print(name2)"
   ]
  },
  {
   "cell_type": "code",
   "execution_count": null,
   "id": "577a3100-d2ed-47fd-8fb1-42a17f433ba2",
   "metadata": {},
   "outputs": [],
   "source": []
  }
 ],
 "metadata": {
  "kernelspec": {
   "display_name": "Python [conda env:base] *",
   "language": "python",
   "name": "conda-base-py"
  },
  "language_info": {
   "codemirror_mode": {
    "name": "ipython",
    "version": 3
   },
   "file_extension": ".py",
   "mimetype": "text/x-python",
   "name": "python",
   "nbconvert_exporter": "python",
   "pygments_lexer": "ipython3",
   "version": "3.13.5"
  }
 },
 "nbformat": 4,
 "nbformat_minor": 5
}
